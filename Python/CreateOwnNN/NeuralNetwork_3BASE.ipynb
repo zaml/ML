{
 "cells": [
  {
   "cell_type": "code",
   "execution_count": 2,
   "metadata": {
    "collapsed": true
   },
   "outputs": [],
   "source": [
    "import numpy # numbers\n",
    "import scipy.special # logit function"
   ]
  },
  {
   "cell_type": "code",
   "execution_count": 12,
   "metadata": {
    "collapsed": true
   },
   "outputs": [],
   "source": [
    "# neural network class definition\n",
    "class NeuralNetwork:\n",
    "    \n",
    "    # initialization of NN\n",
    "    def __init__(self, inputnodes, hiddennodes, outputnodes, learningrate):\n",
    "        # initialize all variables for the NN\n",
    "        self.inodes = inputnodes\n",
    "        self.hnodes = hiddennodes\n",
    "        self.onodes = outputnodes\n",
    "        self.lr = learningrate\n",
    "        \n",
    "        # activation function (expit is the logistic function)\n",
    "        self.activation_function = lambda x: scipy.special.expit(x)\n",
    "        \n",
    "        # random initialization of weights from input to hidden layer &\n",
    "        # from hidden to output layer\n",
    "        # TODO: check additional implementation p.133, p.142 with normal distrubution\n",
    "        self.wih = (numpy.random.rand(self.hnodes,self.inodes) - 0.5)\n",
    "        self.who = (numpy.random.rand(self.onodes,self.hnodes) - 0.5)\n",
    "        pass\n",
    "    \n",
    "    # train NN\n",
    "    def train(self, input_list, target_lists):\n",
    "        \n",
    "        # ---------------   STEP 1 ----------------------------\n",
    "        # inputs into a 2d array\n",
    "        inputs = numpy.array(input_list, ndmin=2).T\n",
    "        targets = numpy.array(target_lists, ndmin=2).T\n",
    "        \n",
    "        # ------ Input 2 Hidden Layer -------------------------\n",
    "        # calculate signals from input to hidden layer\n",
    "        hidden_inputs = numpy.dot(self.wih, inputs)\n",
    "        # calculate signals emerging from hidden layer\n",
    "        hidden_outputs = self.activation_function(hidden_inputs)\n",
    "        \n",
    "        # ------ Hidden Layer 2 Output ------------------------\n",
    "        # calculate signals from input to hidden layer\n",
    "        final_inputs = numpy.dot(self.who, hidden_outputs)\n",
    "        # calculate signals emerging from hidden layer\n",
    "        final_outputs = self.activation_function(final_inputs)\n",
    "        \n",
    "        # ---------------   STEP 2 ----------------------------\n",
    "        # ---------------   Back Propagation ------------------\n",
    "        \n",
    "        # -- calculate errors\n",
    "        output_errors = targets - final_outputs\n",
    "        \n",
    "        # -- hidden layer errors\n",
    "        hidden_errors = numpy.dot(self.who.T, output_errors)\n",
    "        \n",
    "        # update weights between hidden and output layers\n",
    "        # DeltaWjk (page 140)\n",
    "        self.who += self.lr * numpy.dot((output_errors * final_outputs * (1.0 - final_outputs)),\n",
    "                                       numpy.transpose(hidden_outputs))\n",
    "        \n",
    "        # update weights between hidden and input layers\n",
    "        # DeltaWjk (page 141)\n",
    "        self.wih += self.lr * numpy.dot((hidden_errors * hidden_outputs * (1.0 - hidden_outputs)),\n",
    "                                       numpy.transpose(inputs))\n",
    "        \n",
    "        pass\n",
    "    \n",
    "    # query the NN\n",
    "    def query(self, input_list):\n",
    "        # inputs into a 2d array\n",
    "        inputs = numpy.array(input_list, ndmin=2).T\n",
    "        \n",
    "        # ------ Input 2 Hidden Layer -------------------------\n",
    "        # calculate signals from input to hidden layer\n",
    "        hidden_inputs = numpy.dot(self.wih, inputs)\n",
    "        # calculate signals emerging from hidden layer\n",
    "        hidden_outputs = self.activation_function(hidden_inputs)\n",
    "        \n",
    "        # ------ Hidden Layer 2 Output ------------------------\n",
    "        # calculate signals from input to hidden layer\n",
    "        final_inputs = numpy.dot(self.who, hidden_outputs)\n",
    "        # calculate signals emerging from hidden layer\n",
    "        final_outputs = self.activation_function(final_inputs)\n",
    "        \n",
    "        return final_outputs\n",
    "        \n",
    "        pass\n",
    "    "
   ]
  },
  {
   "cell_type": "code",
   "execution_count": 13,
   "metadata": {},
   "outputs": [
    {
     "data": {
      "text/plain": [
       "array([[ 0.54160397],\n",
       "       [ 0.56904117],\n",
       "       [ 0.57179432]])"
      ]
     },
     "execution_count": 13,
     "metadata": {},
     "output_type": "execute_result"
    }
   ],
   "source": [
    "# neural network setup\n",
    "input_nodes = 3\n",
    "hidden_nodes = 3\n",
    "output_nodes = 3\n",
    "learning_rate = 0.3\n",
    "\n",
    "# create instance of NN class\n",
    "n = NeuralNetwork(input_nodes, hidden_nodes, output_nodes, learning_rate)\n",
    "\n",
    "# test query\n",
    "n.query([1.0, 0.5, -1.5])"
   ]
  },
  {
   "cell_type": "code",
   "execution_count": null,
   "metadata": {
    "collapsed": true,
    "scrolled": true
   },
   "outputs": [],
   "source": []
  },
  {
   "cell_type": "code",
   "execution_count": null,
   "metadata": {
    "collapsed": true
   },
   "outputs": [],
   "source": []
  }
 ],
 "metadata": {
  "kernelspec": {
   "display_name": "Python 3",
   "language": "python",
   "name": "python3"
  },
  "language_info": {
   "codemirror_mode": {
    "name": "ipython",
    "version": 3
   },
   "file_extension": ".py",
   "mimetype": "text/x-python",
   "name": "python",
   "nbconvert_exporter": "python",
   "pygments_lexer": "ipython3",
   "version": "3.6.3"
  }
 },
 "nbformat": 4,
 "nbformat_minor": 2
}
