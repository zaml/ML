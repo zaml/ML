{
 "cells": [
  {
   "cell_type": "code",
   "execution_count": 1,
   "metadata": {
    "collapsed": true
   },
   "outputs": [],
   "source": [
    "import numpy # numbers\n",
    "import scipy.special # logit function\n",
    "import matplotlib.pyplot # plotting\n",
    "%matplotlib inline"
   ]
  },
  {
   "cell_type": "code",
   "execution_count": 2,
   "metadata": {
    "collapsed": true
   },
   "outputs": [],
   "source": [
    "# neural network class definition\n",
    "class NeuralNetwork:\n",
    "    \n",
    "    # initialization of NN\n",
    "    def __init__(self, inputnodes, hiddennodes, outputnodes, learningrate):\n",
    "        # initialize all variables for the NN\n",
    "        self.inodes = inputnodes\n",
    "        self.hnodes = hiddennodes\n",
    "        self.onodes = outputnodes\n",
    "        self.lr = learningrate\n",
    "        \n",
    "        # activation function (expit is the logistic function)\n",
    "        self.activation_function = lambda x: scipy.special.expit(x)\n",
    "        \n",
    "        # random initialization of weights from input to hidden layer &\n",
    "        # from hidden to output layer\n",
    "        # TODO: check additional implementation p.133, p.142 with normal distrubution\n",
    "        self.wih = (numpy.random.rand(self.hnodes,self.inodes) - 0.5)\n",
    "        self.who = (numpy.random.rand(self.onodes,self.hnodes) - 0.5)\n",
    "        pass\n",
    "    \n",
    "    # train NN\n",
    "    def train(self, input_list, target_lists):\n",
    "        \n",
    "        # ---------------   STEP 1 ----------------------------\n",
    "        # inputs into a 2d array\n",
    "        inputs = numpy.array(input_list, ndmin=2).T\n",
    "        targets = numpy.array(target_lists, ndmin=2).T\n",
    "        \n",
    "        # ------ Input 2 Hidden Layer -------------------------\n",
    "        # calculate signals from input to hidden layer\n",
    "        hidden_inputs = numpy.dot(self.wih, inputs)\n",
    "        # calculate signals emerging from hidden layer\n",
    "        hidden_outputs = self.activation_function(hidden_inputs)\n",
    "        \n",
    "        # ------ Hidden Layer 2 Output ------------------------\n",
    "        # calculate signals from input to hidden layer\n",
    "        final_inputs = numpy.dot(self.who, hidden_outputs)\n",
    "        # calculate signals emerging from hidden layer\n",
    "        final_outputs = self.activation_function(final_inputs)\n",
    "        \n",
    "        # ---------------   STEP 2 ----------------------------\n",
    "        # ---------------   Back Propagation ------------------\n",
    "        \n",
    "        # -- calculate errors\n",
    "        output_errors = targets - final_outputs\n",
    "        \n",
    "        # -- hidden layer errors\n",
    "        hidden_errors = numpy.dot(self.who.T, output_errors)\n",
    "        \n",
    "        # update weights between hidden and output layers\n",
    "        # DeltaWjk (page 140)\n",
    "        self.who += self.lr * numpy.dot((output_errors * final_outputs * (1.0 - final_outputs)),\n",
    "                                       numpy.transpose(hidden_outputs))\n",
    "        \n",
    "        # update weights between hidden and input layers\n",
    "        # DeltaWjk (page 141)\n",
    "        self.wih += self.lr * numpy.dot((hidden_errors * hidden_outputs * (1.0 - hidden_outputs)),\n",
    "                                       numpy.transpose(inputs))\n",
    "        \n",
    "        pass\n",
    "    \n",
    "    # query the NN\n",
    "    def query(self, input_list):\n",
    "        # inputs into a 2d array\n",
    "        inputs = numpy.array(input_list, ndmin=2).T\n",
    "        \n",
    "        # ------ Input 2 Hidden Layer -------------------------\n",
    "        # calculate signals from input to hidden layer\n",
    "        hidden_inputs = numpy.dot(self.wih, inputs)\n",
    "        # calculate signals emerging from hidden layer\n",
    "        hidden_outputs = self.activation_function(hidden_inputs)\n",
    "        \n",
    "        # ------ Hidden Layer 2 Output ------------------------\n",
    "        # calculate signals from input to hidden layer\n",
    "        final_inputs = numpy.dot(self.who, hidden_outputs)\n",
    "        # calculate signals emerging from hidden layer\n",
    "        final_outputs = self.activation_function(final_inputs)\n",
    "        \n",
    "        return final_outputs\n",
    "        \n",
    "        pass\n",
    "    "
   ]
  },
  {
   "cell_type": "code",
   "execution_count": 3,
   "metadata": {
    "collapsed": true
   },
   "outputs": [],
   "source": [
    "# neural network setup\n",
    "input_nodes = 784 # 28 x 28 bits\n",
    "hidden_nodes = 100 # training rows\n",
    "output_nodes = 10 # number of classes\n",
    "learning_rate = 0.3\n",
    "\n",
    "# create instance of NN class\n",
    "n = NeuralNetwork(input_nodes, hidden_nodes, output_nodes, learning_rate)\n"
   ]
  },
  {
   "cell_type": "code",
   "execution_count": 6,
   "metadata": {
    "scrolled": true
   },
   "outputs": [
    {
     "data": {
      "text/plain": [
       "100"
      ]
     },
     "execution_count": 6,
     "metadata": {},
     "output_type": "execute_result"
    }
   ],
   "source": [
    "# read training set \n",
    "training_data_file = open(\"mnist_dataset/mnist_train_100.csv\")\n",
    "training_data_list = training_data_file.readlines()\n",
    "training_data_file.close()\n",
    "\n",
    "len(training_data_list)"
   ]
  },
  {
   "cell_type": "code",
   "execution_count": 7,
   "metadata": {},
   "outputs": [
    {
     "data": {
      "text/plain": [
       "<matplotlib.image.AxesImage at 0x1145e5ac8>"
      ]
     },
     "execution_count": 7,
     "metadata": {},
     "output_type": "execute_result"
    },
    {
     "data": {
      "image/png": "[encoded data removed]",
      "text/plain": [
       "<matplotlib.figure.Figure at 0x10f300240>"
      ]
     },
     "metadata": {},
     "output_type": "display_data"
    }
   ],
   "source": [
    "# reshape first image entry into a 28x28 image\n",
    "all_values = training_data_list[0].split(',')\n",
    "image_array = numpy.asfarray(all_values[1:]).reshape((28,28))\n",
    "matplotlib.pyplot.imshow(image_array, cmap='Greys', interpolation = 'None')"
   ]
  },
  {
   "cell_type": "code",
   "execution_count": 8,
   "metadata": {
    "collapsed": true
   },
   "outputs": [],
   "source": [
    "# training set - re-scale data between 0.01 and 1.0\n",
    "scaled_input = (numpy.asfarray(all_values[1:]) / 255.0 * 0.99) + 0.01\n",
    "# print(scaled_input)"
   ]
  },
  {
   "cell_type": "code",
   "execution_count": 9,
   "metadata": {
    "collapsed": true
   },
   "outputs": [],
   "source": [
    "# define 10 output nodes\n",
    "onodes = 10\n",
    "targets = numpy.zeros(onodes) + 0.01\n",
    "targets[int(all_values[0])] = 0.99\n"
   ]
  },
  {
   "cell_type": "code",
   "execution_count": 10,
   "metadata": {
    "collapsed": true
   },
   "outputs": [],
   "source": [
    "# train neural network\n",
    "# go through each item\n",
    "for record in training_data_list:\n",
    "    # create array\n",
    "    all_values = record.split(',')\n",
    "    # scale inputs\n",
    "    inputs = (numpy.asfarray(all_values[1:]) / 255.0 * 0.99) + 0.01\n",
    "    # create target values\n",
    "    targets = numpy.zeros(output_nodes) + 0.01\n",
    "    # define target values \n",
    "    targets[int(all_values[0])] = 0.99\n",
    "    # TRAIN IMAGE\n",
    "    n.train(inputs, targets)\n",
    "    pass"
   ]
  },
  {
   "cell_type": "code",
   "execution_count": 11,
   "metadata": {
    "collapsed": true
   },
   "outputs": [],
   "source": [
    "# -------------- TESTING THE NEURAL NETWORK -------------- \n",
    "# Single Value Test"
   ]
  },
  {
   "cell_type": "code",
   "execution_count": 19,
   "metadata": {
    "collapsed": true
   },
   "outputs": [],
   "source": [
    "# load test data\n",
    "test_data_file = open(\"mnist_dataset/mnist_test_10.csv\")\n",
    "test_data_list = test_data_file.readlines()\n",
    "test_data_file.close()"
   ]
  },
  {
   "cell_type": "code",
   "execution_count": 28,
   "metadata": {},
   "outputs": [
    {
     "name": "stdout",
     "output_type": "stream",
     "text": [
      "7\n"
     ]
    }
   ],
   "source": [
    "# lets check the first image OF TEST SET... its a 7!\n",
    "all_values = test_data_list[0].split(',')\n",
    "print(all_values[0])"
   ]
  },
  {
   "cell_type": "code",
   "execution_count": 29,
   "metadata": {},
   "outputs": [
    {
     "data": {
      "text/plain": [
       "array([[ 0.12597957],\n",
       "       [ 0.02727138],\n",
       "       [ 0.02738148],\n",
       "       [ 0.03211285],\n",
       "       [ 0.05212054],\n",
       "       [ 0.08758729],\n",
       "       [ 0.0206798 ],\n",
       "       [ 0.75088553],\n",
       "       [ 0.12764617],\n",
       "       [ 0.0224415 ]])"
      ]
     },
     "execution_count": 29,
     "metadata": {},
     "output_type": "execute_result"
    }
   ],
   "source": [
    "# query neural network\n",
    "n.query((numpy.asfarray(all_values[1:]) / 255.0 * 0.99) + 0.01)\n",
    "# watch for highest position in probability array"
   ]
  },
  {
   "cell_type": "code",
   "execution_count": 25,
   "metadata": {},
   "outputs": [
    {
     "data": {
      "text/plain": [
       "<matplotlib.image.AxesImage at 0x1149fb0b8>"
      ]
     },
     "execution_count": 25,
     "metadata": {},
     "output_type": "execute_result"
    },
    {
     "data": {
      "image/png": "[encoded data removed]",
      "text/plain": [
       "<matplotlib.figure.Figure at 0x1146dc8d0>"
      ]
     },
     "metadata": {},
     "output_type": "display_data"
    }
   ],
   "source": [
    "# Display first image from Test Set...\n",
    "all_values = test_data_list[0].split(',')\n",
    "image_array = numpy.asfarray(all_values[1:]).reshape((28,28))\n",
    "matplotlib.pyplot.imshow(image_array, cmap='Greys', interpolation = 'None')"
   ]
  },
  {
   "cell_type": "code",
   "execution_count": 17,
   "metadata": {},
   "outputs": [
    {
     "name": "stdout",
     "output_type": "stream",
     "text": [
      "7 correct label\n",
      "networks answer 7\n",
      "2 correct label\n",
      "networks answer 3\n",
      "1 correct label\n",
      "networks answer 1\n",
      "0 correct label\n",
      "networks answer 0\n",
      "4 correct label\n",
      "networks answer 4\n",
      "1 correct label\n",
      "networks answer 1\n",
      "4 correct label\n",
      "networks answer 4\n",
      "9 correct label\n",
      "networks answer 4\n",
      "5 correct label\n",
      "networks answer 4\n",
      "9 correct label\n",
      "networks answer 7\n"
     ]
    }
   ],
   "source": [
    "# -------------- TESTING THE NEURAL NETWORK -------------- \n",
    "# Network Performance on Test Set (performance)\n",
    "\n",
    "# scorecard\n",
    "scorecard = []\n",
    "\n",
    "# loop over all test set\n",
    "for record in test_data_list:\n",
    "    # create array\n",
    "    all_values = record.split(',')\n",
    "    # get correct label\n",
    "    correct_label = int(all_values[0])\n",
    "    print(correct_label, \"correct label\")\n",
    "    # scale and shift values\\\n",
    "    inputs = (numpy.asfarray(all_values[1:]) / 255.0 * 0.99) + 0.01\n",
    "    # query network\n",
    "    outputs = n.query(inputs)\n",
    "    # get highest label\n",
    "    label = numpy.argmax(outputs)\n",
    "    print(\"networks answer\", label)\n",
    "    # test condition\n",
    "    if(label == correct_label):\n",
    "        scorecard.append(1)\n",
    "    else:\n",
    "        scorecard.append(0)\n",
    "        \n",
    "    pass"
   ]
  },
  {
   "cell_type": "code",
   "execution_count": 18,
   "metadata": {},
   "outputs": [
    {
     "name": "stdout",
     "output_type": "stream",
     "text": [
      "Performance =  0.6\n"
     ]
    }
   ],
   "source": [
    "# calculate performance\n",
    "scorecard_array = numpy.asarray(scorecard)\n",
    "print(\"Performance = \", scorecard_array.sum() / scorecard_array.size)"
   ]
  },
  {
   "cell_type": "code",
   "execution_count": null,
   "metadata": {
    "collapsed": true
   },
   "outputs": [],
   "source": []
  }
 ],
 "metadata": {
  "kernelspec": {
   "display_name": "Python 3",
   "language": "python",
   "name": "python3"
  },
  "language_info": {
   "codemirror_mode": {
    "name": "ipython",
    "version": 3
   },
   "file_extension": ".py",
   "mimetype": "text/x-python",
   "name": "python",
   "nbconvert_exporter": "python",
   "pygments_lexer": "ipython3",
   "version": "3.6.3"
  }
 },
 "nbformat": 4,
 "nbformat_minor": 2
}
