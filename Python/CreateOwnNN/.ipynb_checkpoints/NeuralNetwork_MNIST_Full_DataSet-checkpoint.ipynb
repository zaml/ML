{
 "cells": [
  {
   "cell_type": "code",
   "execution_count": 1,
   "metadata": {
    "collapsed": true
   },
   "outputs": [],
   "source": [
    "import numpy # numbers\n",
    "import scipy.special # logit function\n",
    "import matplotlib.pyplot # plotting\n",
    "%matplotlib inline"
   ]
  },
  {
   "cell_type": "code",
   "execution_count": 2,
   "metadata": {
    "collapsed": true
   },
   "outputs": [],
   "source": [
    "# neural network class definition\n",
    "class NeuralNetwork:\n",
    "    \n",
    "    # initialization of NN\n",
    "    def __init__(self, inputnodes, hiddennodes, outputnodes, learningrate):\n",
    "        # initialize all variables for the NN\n",
    "        self.inodes = inputnodes\n",
    "        self.hnodes = hiddennodes\n",
    "        self.onodes = outputnodes\n",
    "        self.lr = learningrate\n",
    "        \n",
    "        # activation function (expit is the logistic function)\n",
    "        self.activation_function = lambda x: scipy.special.expit(x)\n",
    "        \n",
    "        # random initialization of weights from input to hidden layer &\n",
    "        # from hidden to output layer\n",
    "        # TODO: check additional implementation p.133, p.142 with normal distrubution\n",
    "        self.wih = numpy.random.normal(0.0, pow(self.hnodes,- 0.5), (self.hnodes,self.inodes))\n",
    "        self.who = numpy.random.normal(0.0, pow(self.onodes,- 0.5), (self.onodes,self.hnodes))\n",
    "        pass\n",
    "    \n",
    "    # train NN\n",
    "    def train(self, input_list, target_lists):\n",
    "        \n",
    "        # ---------------   STEP 1 ----------------------------\n",
    "        # inputs into a 2d array\n",
    "        inputs = numpy.array(input_list, ndmin=2).T\n",
    "        targets = numpy.array(target_lists, ndmin=2).T\n",
    "        \n",
    "        # ------ Input 2 Hidden Layer -------------------------\n",
    "        # calculate signals from input to hidden layer\n",
    "        hidden_inputs = numpy.dot(self.wih, inputs)\n",
    "        # calculate signals emerging from hidden layer\n",
    "        hidden_outputs = self.activation_function(hidden_inputs)\n",
    "        \n",
    "        # ------ Hidden Layer 2 Output ------------------------\n",
    "        # calculate signals from input to hidden layer\n",
    "        final_inputs = numpy.dot(self.who, hidden_outputs)\n",
    "        # calculate signals emerging from hidden layer\n",
    "        final_outputs = self.activation_function(final_inputs)\n",
    "        \n",
    "        # ---------------   STEP 2 ----------------------------\n",
    "        # ---------------   Back Propagation ------------------\n",
    "        \n",
    "        # -- calculate errors\n",
    "        output_errors = targets - final_outputs\n",
    "        \n",
    "        # -- hidden layer errors\n",
    "        hidden_errors = numpy.dot(self.who.T, output_errors)\n",
    "        \n",
    "        # update weights between hidden and output layers\n",
    "        # DeltaWjk (page 140)\n",
    "        self.who += self.lr * numpy.dot((output_errors * final_outputs * (1.0 - final_outputs)),\n",
    "                                       numpy.transpose(hidden_outputs))\n",
    "        \n",
    "        # update weights between hidden and input layers\n",
    "        # DeltaWjk (page 141)\n",
    "        self.wih += self.lr * numpy.dot((hidden_errors * hidden_outputs * (1.0 - hidden_outputs)),\n",
    "                                       numpy.transpose(inputs))\n",
    "        \n",
    "        pass\n",
    "    \n",
    "    # query the NN\n",
    "    def query(self, input_list):\n",
    "        # inputs into a 2d array\n",
    "        inputs = numpy.array(input_list, ndmin=2).T\n",
    "        \n",
    "        # ------ Input 2 Hidden Layer -------------------------\n",
    "        # calculate signals from input to hidden layer\n",
    "        hidden_inputs = numpy.dot(self.wih, inputs)\n",
    "        # calculate signals emerging from hidden layer\n",
    "        hidden_outputs = self.activation_function(hidden_inputs)\n",
    "        \n",
    "        # ------ Hidden Layer 2 Output ------------------------\n",
    "        # calculate signals from input to hidden layer\n",
    "        final_inputs = numpy.dot(self.who, hidden_outputs)\n",
    "        # calculate signals emerging from hidden layer\n",
    "        final_outputs = self.activation_function(final_inputs)\n",
    "        \n",
    "        return final_outputs\n",
    "        \n",
    "        pass\n",
    "    "
   ]
  },
  {
   "cell_type": "code",
   "execution_count": 3,
   "metadata": {
    "collapsed": true
   },
   "outputs": [],
   "source": [
    "# neural network setup\n",
    "input_nodes = 784 # 28 x 28 bits\n",
    "hidden_nodes = 200 # training rows\n",
    "output_nodes = 10 # number of classes\n",
    "learning_rate = 0.1\n",
    "\n",
    "# create instance of NN class\n",
    "n = NeuralNetwork(input_nodes, hidden_nodes, output_nodes, learning_rate)\n"
   ]
  },
  {
   "cell_type": "code",
   "execution_count": 5,
   "metadata": {
    "scrolled": true
   },
   "outputs": [
    {
     "data": {
      "text/plain": [
       "60000"
      ]
     },
     "execution_count": 5,
     "metadata": {},
     "output_type": "execute_result"
    }
   ],
   "source": [
    "# read training set \n",
    "training_data_file = open(\"mnist_dataset/mnist_train.csv\")\n",
    "training_data_list = training_data_file.readlines()\n",
    "training_data_file.close()\n",
    "\n",
    "# there are 60,000 examples in the training set\n",
    "len(training_data_list)"
   ]
  },
  {
   "cell_type": "code",
   "execution_count": 6,
   "metadata": {
    "collapsed": true
   },
   "outputs": [],
   "source": [
    "# train neural network\n",
    "# go through each item\n",
    "for record in training_data_list:\n",
    "    # create array\n",
    "    all_values = record.split(',')\n",
    "    # scale inputs\n",
    "    inputs = (numpy.asfarray(all_values[1:]) / 255.0 * 0.99) + 0.01\n",
    "    # create target values\n",
    "    targets = numpy.zeros(output_nodes) + 0.01\n",
    "    # define target values \n",
    "    targets[int(all_values[0])] = 0.99\n",
    "    # TRAIN IMAGE\n",
    "    n.train(inputs, targets)\n",
    "    pass"
   ]
  },
  {
   "cell_type": "code",
   "execution_count": 7,
   "metadata": {
    "collapsed": true
   },
   "outputs": [],
   "source": [
    "# -------------- TESTING THE NEURAL NETWORK -------------- \n",
    "# Single Value Test"
   ]
  },
  {
   "cell_type": "code",
   "execution_count": 9,
   "metadata": {},
   "outputs": [
    {
     "data": {
      "text/plain": [
       "10000"
      ]
     },
     "execution_count": 9,
     "metadata": {},
     "output_type": "execute_result"
    }
   ],
   "source": [
    "# load test data\n",
    "test_data_file = open(\"mnist_dataset/mnist_test.csv\")\n",
    "test_data_list = test_data_file.readlines()\n",
    "test_data_file.close()\n",
    "\n",
    "# there are 10,000 examples in the test set\n",
    "len(test_data_list)"
   ]
  },
  {
   "cell_type": "code",
   "execution_count": 10,
   "metadata": {
    "collapsed": true
   },
   "outputs": [],
   "source": [
    "# -------------- TESTING THE NEURAL NETWORK -------------- \n",
    "# Network Performance on Test Set (performance)\n",
    "\n",
    "# scorecard\n",
    "scorecard = []\n",
    "\n",
    "# loop over all test set\n",
    "for record in test_data_list:\n",
    "    # create array\n",
    "    all_values = record.split(',')\n",
    "    # get correct label\n",
    "    correct_label = int(all_values[0])\n",
    "    # scale and shift values\\\n",
    "    inputs = (numpy.asfarray(all_values[1:]) / 255.0 * 0.99) + 0.01\n",
    "    # query network\n",
    "    outputs = n.query(inputs)\n",
    "    # get highest label\n",
    "    label = numpy.argmax(outputs)\n",
    "    # test condition\n",
    "    if(label == correct_label):\n",
    "        scorecard.append(1)\n",
    "    else:\n",
    "        scorecard.append(0)\n",
    "        \n",
    "    pass"
   ]
  },
  {
   "cell_type": "code",
   "execution_count": 12,
   "metadata": {},
   "outputs": [
    {
     "name": "stdout",
     "output_type": "stream",
     "text": [
      "Performance =  0.9588\n"
     ]
    }
   ],
   "source": [
    "# calculate performance\n",
    "scorecard_array = numpy.asarray(scorecard)\n",
    "print(\"Performance = \", scorecard_array.sum() / scorecard_array.size)"
   ]
  },
  {
   "cell_type": "code",
   "execution_count": null,
   "metadata": {
    "collapsed": true
   },
   "outputs": [],
   "source": []
  }
 ],
 "metadata": {
  "kernelspec": {
   "display_name": "Python 3",
   "language": "python",
   "name": "python3"
  },
  "language_info": {
   "codemirror_mode": {
    "name": "ipython",
    "version": 3
   },
   "file_extension": ".py",
   "mimetype": "text/x-python",
   "name": "python",
   "nbconvert_exporter": "python",
   "pygments_lexer": "ipython3",
   "version": "3.6.3"
  }
 },
 "nbformat": 4,
 "nbformat_minor": 2
}
